{
  "cells": [
    {
      "cell_type": "code",
      "execution_count": null,
      "metadata": {
        "colab": {
          "base_uri": "https://localhost:8080/"
        },
        "id": "a_nzgOe7qXk8",
        "outputId": "82bec82e-20c7-40be-b417-1bf4c3164c3b"
      },
      "outputs": [
        {
          "name": "stdout",
          "output_type": "stream",
          "text": [
            "Collecting flask_ngrok\n",
            "  Downloading flask_ngrok-0.0.25-py3-none-any.whl (3.1 kB)\n",
            "Requirement already satisfied: Flask>=0.8 in /usr/local/lib/python3.10/dist-packages (from flask_ngrok) (2.2.5)\n",
            "Requirement already satisfied: requests in /usr/local/lib/python3.10/dist-packages (from flask_ngrok) (2.31.0)\n",
            "Requirement already satisfied: Werkzeug>=2.2.2 in /usr/local/lib/python3.10/dist-packages (from Flask>=0.8->flask_ngrok) (3.0.1)\n",
            "Requirement already satisfied: Jinja2>=3.0 in /usr/local/lib/python3.10/dist-packages (from Flask>=0.8->flask_ngrok) (3.1.2)\n",
            "Requirement already satisfied: itsdangerous>=2.0 in /usr/local/lib/python3.10/dist-packages (from Flask>=0.8->flask_ngrok) (2.1.2)\n",
            "Requirement already satisfied: click>=8.0 in /usr/local/lib/python3.10/dist-packages (from Flask>=0.8->flask_ngrok) (8.1.7)\n",
            "Requirement already satisfied: charset-normalizer<4,>=2 in /usr/local/lib/python3.10/dist-packages (from requests->flask_ngrok) (3.3.1)\n",
            "Requirement already satisfied: idna<4,>=2.5 in /usr/local/lib/python3.10/dist-packages (from requests->flask_ngrok) (3.4)\n",
            "Requirement already satisfied: urllib3<3,>=1.21.1 in /usr/local/lib/python3.10/dist-packages (from requests->flask_ngrok) (2.0.7)\n",
            "Requirement already satisfied: certifi>=2017.4.17 in /usr/local/lib/python3.10/dist-packages (from requests->flask_ngrok) (2023.7.22)\n",
            "Requirement already satisfied: MarkupSafe>=2.0 in /usr/local/lib/python3.10/dist-packages (from Jinja2>=3.0->Flask>=0.8->flask_ngrok) (2.1.3)\n",
            "Installing collected packages: flask_ngrok\n",
            "Successfully installed flask_ngrok-0.0.25\n",
            "Collecting pyngrok==4.1.1\n",
            "  Downloading pyngrok-4.1.1.tar.gz (18 kB)\n",
            "  Preparing metadata (setup.py) ... \u001b[?25l\u001b[?25hdone\n",
            "Requirement already satisfied: future in /usr/local/lib/python3.10/dist-packages (from pyngrok==4.1.1) (0.18.3)\n",
            "Requirement already satisfied: PyYAML in /usr/local/lib/python3.10/dist-packages (from pyngrok==4.1.1) (6.0.1)\n",
            "Building wheels for collected packages: pyngrok\n",
            "  Building wheel for pyngrok (setup.py) ... \u001b[?25l\u001b[?25hdone\n",
            "  Created wheel for pyngrok: filename=pyngrok-4.1.1-py3-none-any.whl size=15963 sha256=094ab1965d2d840db1aabea0c453b81237fff8b98c3ec018cba5c75f64071b31\n",
            "  Stored in directory: /root/.cache/pip/wheels/4c/7c/4c/632fba2ea8e88d8890102eb07bc922e1ca8fa14db5902c91a8\n",
            "Successfully built pyngrok\n",
            "Installing collected packages: pyngrok\n",
            "Successfully installed pyngrok-4.1.1\n",
            "Authtoken saved to configuration file: /root/.ngrok2/ngrok.yml\n"
          ]
        }
      ],
      "source": [
        "!pip install flask_ngrok\n",
        "!pip install pyngrok==4.1.1\n",
        "!ngrok authtoken '2TioxnD798loTkSsBpLfO4qxXye_7oNWrdUPco9E8x5Easuke'"
      ]
    },
    {
      "cell_type": "code",
      "execution_count": null,
      "metadata": {
        "id": "HefpxQdBn3rV"
      },
      "outputs": [],
      "source": [
        "import pickle\n",
        "import math\n",
        "import string\n",
        "import socket\n",
        "import os\n",
        "from urllib.parse import urlparse\n",
        "import requests\n",
        "\n",
        "from flask_ngrok import run_with_ngrok\n",
        "from flask import Flask, request, jsonify"
      ]
    },
    {
      "cell_type": "code",
      "execution_count": null,
      "metadata": {
        "id": "GN7M3-uoqQbu"
      },
      "outputs": [],
      "source": [
        "app = Flask(__name__)\n",
        "run_with_ngrok(app)"
      ]
    },
    {
      "cell_type": "code",
      "execution_count": null,
      "metadata": {
        "id": "dNgcggCLqj0Q"
      },
      "outputs": [],
      "source": [
        "with open('/content/drive/MyDrive/Colab Notebooks/random_forest_classifier.pkl', 'rb') as file:\n",
        "    clf = pickle.load(file)"
      ]
    },
    {
      "cell_type": "code",
      "execution_count": null,
      "metadata": {
        "id": "DIkGThi9qo_m"
      },
      "outputs": [],
      "source": [
        "\n",
        "def get_domain_length(url):\n",
        "    \"\"\"\n",
        "    Returns the length of the entire URL.\n",
        "    \"\"\"\n",
        "    return len(url)\n",
        "\n",
        "\n",
        "def get_domain_entropy(url):\n",
        "    \"\"\"\n",
        "    Returns the entropy of the domain name.\n",
        "    \"\"\"\n",
        "    domain = urlparse(url).netloc\n",
        "    alphabet = string.ascii_lowercase + string.digits\n",
        "    freq = [0] * len(alphabet)\n",
        "    for char in domain:\n",
        "        if char in alphabet:\n",
        "            freq[alphabet.index(char)] += 1\n",
        "    entropy = 0\n",
        "    for count in freq:\n",
        "        if count > 0:\n",
        "            freq_ratio = float(count) / len(domain)\n",
        "            entropy -= freq_ratio * math.log(freq_ratio, 2)\n",
        "    return round(entropy,2)\n",
        "\n",
        "\n",
        "def is_ip_address(url):\n",
        "    \"\"\"\n",
        "    Returns True if the URL uses an IP address instead of a domain name.\n",
        "    \"\"\"\n",
        "    domain = urlparse(url).netloc\n",
        "    try:\n",
        "        socket.inet_aton(domain)\n",
        "        return 1\n",
        "    except socket.error:\n",
        "        return 0\n",
        "\n",
        "\n",
        "def has_malicious_extension(url):\n",
        "    _, ext = os.path.splitext(url)\n",
        "    malicious_extensions = ['.exe', '.dll', '.bat', '.cmd', '.scr', '.js', '.vbs',\n",
        "                            '.hta', '.ps1', '.jar', '.py', '.rb']\n",
        "\n",
        "    if ext.lower() in malicious_extensions:\n",
        "        return 1\n",
        "    else:\n",
        "        return 0\n",
        "\n",
        "\n",
        "def query_params_count(url):\n",
        "    \"\"\"\n",
        "    Returns Number of query parameters in the URL\n",
        "    \"\"\"\n",
        "    parsed = urlparse(url)\n",
        "    query_params = parsed.query.split('&')\n",
        "    if query_params[0] == '':\n",
        "        return 0\n",
        "    else:\n",
        "        return len(query_params)\n",
        "\n",
        "\n",
        "def path_tokens_count(url):\n",
        "    \"\"\"\n",
        "    Returns Number of path tokens\n",
        "    \"\"\"\n",
        "    parsed = urlparse(url)\n",
        "    path_tokens = parsed.path.split('/')\n",
        "    path_tokens = [token for token in path_tokens if token]  # remove empty tokens\n",
        "    return len(path_tokens)\n",
        "\n",
        "\n",
        "def hyphens_count(url):\n",
        "    \"\"\"\n",
        "    Returns the number of hyphens in the entire URL\n",
        "    \"\"\"\n",
        "    parsed = urlparse(url)\n",
        "    return url.count('-')\n",
        "\n",
        "\n",
        "def digits_count(url):\n",
        "    \"\"\"\n",
        "    Returns Number of digits in the entire URL\n",
        "    \"\"\"\n",
        "    return sum(c.isdigit() for c in url)\n",
        "\n",
        "\n",
        "def has_special_characters(url):\n",
        "    special_chars = ['@', '!', '#', '$', '%', '^', '&', '*', '_', '+']\n",
        "    for char in special_chars:\n",
        "        if char in url:\n",
        "            return 1\n",
        "    return 0\n",
        "\n",
        "\n",
        "def getInputArray(url):\n",
        "    result = []\n",
        "    result.append(get_domain_length(url))\n",
        "    result.append(get_domain_entropy(url))\n",
        "    result.append(is_ip_address(url))\n",
        "    result.append(has_malicious_extension(url))\n",
        "    result.append(query_params_count(url))\n",
        "    result.append(path_tokens_count(url))\n",
        "    result.append(hyphens_count(url))\n",
        "    result.append(digits_count(url))\n",
        "    result.append(has_special_characters(url))\n",
        "    return result"
      ]
    },
    {
      "cell_type": "code",
      "execution_count": null,
      "metadata": {
        "id": "rc-d4rouq4G0"
      },
      "outputs": [],
      "source": [
        "def predict_urls(urls):\n",
        "    features = [getInputArray(url) for url in urls]\n",
        "    predictions = clf.predict(features)\n",
        "    return predictions"
      ]
    },
    {
      "cell_type": "code",
      "execution_count": null,
      "metadata": {
        "id": "kXfWxX02q6-s"
      },
      "outputs": [],
      "source": [
        "import requests\n",
        "def check_Nortan_WebSafe(url):\n",
        "    response = requests.get(\n",
        "        f\"https://safeweb.norton.com/report/show?url={url}\")\n",
        "    html_content = response.text\n",
        "    if \"known dangerous webpage\" in html_content:\n",
        "        return False\n",
        "    else:\n",
        "        return True"
      ]
    },
    {
      "cell_type": "code",
      "execution_count": null,
      "metadata": {
        "colab": {
          "base_uri": "https://localhost:8080/"
        },
        "id": "4_Vyqe2nJ97P",
        "outputId": "90f2fdaa-070f-4279-ce97-dca4fe801996"
      },
      "outputs": [
        {
          "data": {
            "text/plain": [
              "False"
            ]
          },
          "execution_count": 8,
          "metadata": {},
          "output_type": "execute_result"
        }
      ],
      "source": [
        "check_Nortan_WebSafe(\"https://acconut.acesvpass.card.noboliving.com\")"
      ]
    },
    {
      "cell_type": "code",
      "execution_count": null,
      "metadata": {
        "id": "PWW4wPhhrC2Y"
      },
      "outputs": [],
      "source": [
        "@app.route('/check_url', methods=['POST'])\n",
        "def check_url():\n",
        "    data = request.get_json()\n",
        "    url = data['url']\n",
        "    norton_result = int(check_Nortan_WebSafe(url))\n",
        "    prediction_result = int(predict_urls([url])[0])\n",
        "\n",
        "    final_result = norton_result if norton_result else (prediction_result and norton_result)\n",
        "\n",
        "    return jsonify({'norton_result': norton_result, 'prediction_result': prediction_result, 'final_result': final_result})"
      ]
    },
    {
      "cell_type": "code",
      "execution_count": 10,
      "metadata": {
        "colab": {
          "base_uri": "https://localhost:8080/"
        },
        "id": "ks0G6lGprLlK",
        "outputId": "a028f479-bc49-4bc4-9785-cd55ab6ce0ad"
      },
      "outputs": [
        {
          "metadata": {
            "tags": null
          },
          "name": "stdout",
          "output_type": "stream",
          "text": [
            " * Serving Flask app '__main__'\n",
            " * Debug mode: off\n"
          ]
        },
        {
          "metadata": {
            "tags": null
          },
          "name": "stderr",
          "output_type": "stream",
          "text": [
            "INFO:werkzeug:\u001b[31m\u001b[1mWARNING: This is a development server. Do not use it in a production deployment. Use a production WSGI server instead.\u001b[0m\n",
            " * Running on http://127.0.0.1:5000\n",
            "INFO:werkzeug:\u001b[33mPress CTRL+C to quit\u001b[0m\n"
          ]
        },
        {
          "metadata": {
            "tags": null
          },
          "name": "stdout",
          "output_type": "stream",
          "text": [
            " * Running on http://5e14-34-150-222-5.ngrok-free.app\n",
            " * Traffic stats available on http://127.0.0.1:4040\n"
          ]
        },
        {
          "metadata": {
            "tags": null
          },
          "name": "stderr",
          "output_type": "stream",
          "text": [
            "/usr/local/lib/python3.10/dist-packages/sklearn/base.py:439: UserWarning: X does not have valid feature names, but RandomForestClassifier was fitted with feature names\n",
            "  warnings.warn(\n",
            "INFO:werkzeug:127.0.0.1 - - [05/Nov/2023 06:31:29] \"POST /check_url HTTP/1.1\" 200 -\n",
            "/usr/local/lib/python3.10/dist-packages/sklearn/base.py:439: UserWarning: X does not have valid feature names, but RandomForestClassifier was fitted with feature names\n",
            "  warnings.warn(\n",
            "INFO:werkzeug:127.0.0.1 - - [05/Nov/2023 06:38:51] \"POST /check_url HTTP/1.1\" 200 -\n",
            "INFO:werkzeug:127.0.0.1 - - [05/Nov/2023 06:38:59] \"\u001b[31m\u001b[1mGET /check_url HTTP/1.1\u001b[0m\" 405 -\n",
            "/usr/local/lib/python3.10/dist-packages/sklearn/base.py:439: UserWarning: X does not have valid feature names, but RandomForestClassifier was fitted with feature names\n",
            "  warnings.warn(\n",
            "INFO:werkzeug:127.0.0.1 - - [05/Nov/2023 06:40:39] \"POST /check_url HTTP/1.1\" 200 -\n",
            "/usr/local/lib/python3.10/dist-packages/sklearn/base.py:439: UserWarning: X does not have valid feature names, but RandomForestClassifier was fitted with feature names\n",
            "  warnings.warn(\n",
            "INFO:werkzeug:127.0.0.1 - - [05/Nov/2023 06:41:12] \"POST /check_url HTTP/1.1\" 200 -\n",
            "/usr/local/lib/python3.10/dist-packages/sklearn/base.py:439: UserWarning: X does not have valid feature names, but RandomForestClassifier was fitted with feature names\n",
            "  warnings.warn(\n",
            "INFO:werkzeug:127.0.0.1 - - [05/Nov/2023 06:41:39] \"POST /check_url HTTP/1.1\" 200 -\n"
          ]
        }
      ],
      "source": [
        "if __name__ == '__main__':\n",
        "    app.run()"
      ]
    }
  ],
  "metadata": {
    "colab": {
      "provenance": []
    },
    "kernelspec": {
      "display_name": "Python 3",
      "name": "python3"
    },
    "language_info": {
      "name": "python"
    }
  },
  "nbformat": 4,
  "nbformat_minor": 0
}